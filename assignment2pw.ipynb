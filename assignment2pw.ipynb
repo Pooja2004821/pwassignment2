{
  "nbformat": 4,
  "nbformat_minor": 0,
  "metadata": {
    "colab": {
      "provenance": []
    },
    "kernelspec": {
      "name": "python3",
      "display_name": "Python 3"
    },
    "language_info": {
      "name": "python"
    }
  },
  "cells": [
    {
      "cell_type": "code",
      "execution_count": null,
      "metadata": {
        "id": "NzbQGfqcLCx1"
      },
      "outputs": [],
      "source": []
    },
    {
      "cell_type": "markdown",
      "source": [
        "Q1.What are data structures, and why are they important?\n",
        "- Data structures are ways of organizing and storing data in a computer so that it can be accessed and modified efficiently.\n",
        "- Why They’re Important:\n",
        "  - Efficiency: The right data structure makes your code faster and more efficient.\n",
        "  - Problem Solving: Many real-world problems can be mapped to data structures.\n",
        "  - Scalability: Helps in handling large amounts of data smoothly.\n",
        "\n",
        "Q2. Explain the difference between mutable and immutable data types with examples.\n",
        "- Mutable Data Types : These can be changed after they’re created. You can modify, add, or remove elements without creating a new object.\n",
        "- Examples:\n",
        "  - Lists\n",
        "  - Dictionaries\n",
        "  - Set\n",
        "- Immutable Data Types : These cannot be changed after creation. If you want to modify them, you end up creating a new object.\n",
        "- Examples:\n",
        "  - Integers\n",
        "  - Floats\n",
        "  - Strings\n",
        "  - Tuples\n",
        "\n",
        "Q3. What are the main differences between lists and tuples in Python?\n",
        "- Feature..................List ([])..............................Tuple (())\n",
        " - Mutability...............Mutable................................Immutable\n",
        " - Syntax...................[1, 2, 3]..............................(1, 2, 3)\n",
        " - Can change elements?.....Yes....................................No\n",
        " - Methods available........More(append,remove)........Fewer(e.g., count, index)\n",
        " - Speed....................Slower (more flexible)........Faster (less overhead)\n",
        " - Use case............When data might change......When data should stay constant\n",
        " - Can be dictionary key?....No...............Yes (if all elements are immutable)\n",
        "\n",
        "Q4.Describe how dictionaries store data.\n",
        "- A dictionary is a built-in Python data structure that stores key-value pairs.\n",
        "- How Data Is Stored Internally :\n",
        "  - Python dictionaries are implemented using a hash table. Here's how it works:\n",
        "  - Hashing the Key:When you use a key, Python runs it through a hash function to turn it into a unique number (called a hash).\n",
        "  - Finding the Bucket:The hash value determines where in memory (which \"bucket\") to store the value.\n",
        "  - Storing the Pair:The key and value are stored together in that spot.\n",
        "  - Retrieving Data:When you look up a key, Python hashes it again and jumps straight to the correct memory location — super fast!\n",
        "\n",
        "Q5. Why might you use a set instead of a list in Python?\n",
        "1. You Need Only Unique Items\n",
        " - names = [\"Alice\", \"Bob\", \"Alice\", \"Charlie\"]\n",
        " - unique_names = set(names)\n",
        " - print(unique_names)  # {'Alice', 'Bob', 'Charlie'}\n",
        "2. Faster Membership Tests\n",
        " - Checking if something is in a set is much faster than in a list.\n",
        " - Code:\n",
        "    - x in some_set  #  O(1) average time\n",
        "    - x in some_list #  O(n) time\n",
        "    - This matters a lot when you have a big dataset.\n",
        "3. You Want Set Operations\n",
        " - Sets support powerful math-like operations:\n",
        " - Code :\n",
        "    - a = {1, 2, 3}\n",
        "    - b = {3, 4, 5}\n",
        "    - print(a & b)  # Intersection → {3}\n",
        "    - print(a | b)  # Union → {1, 2, 3, 4, 5}\n",
        "    - print(a - b)  # Difference → {1, 2}  \n",
        "\n",
        "Q6. What is a string in Python, and how is it different from a list.\n",
        "- A string is a sequence of characters, used to represent text.\n",
        "- Code :\n",
        "     - message = \"hello world\" (Each character in a string has an index (message[0] == 'h'))\n",
        "- Strings are immutable  you can't change them after creation\n",
        "- They're typically used to store textual data\n",
        "- Difference from List :\n",
        "- Feature..............................String..............................List\n",
        "  - Type of elements...........Characters (text)......Any type (int, str, bool…)\n",
        "  - Mutability.....................Immutable............................Mutable\n",
        "  - Syntax........................\"hello\"..............['h', 'e', 'l', 'l', 'o']\n",
        "  - Methods........String-specific(.upper(),.split())..List-specific(.append(), .pop())\n",
        "  - Usage....................Text processing.........General-purpose collections\n",
        "\n",
        "Q7. How do tuples ensure data integrity in Python?\n",
        "- Data integrity means keeping data accurate, consistent, and unchanged unless intentionally modified.\n",
        "- How Tuples Help Ensure That:\n",
        "1. Immutability :\n",
        "- Tuples are immutable, meaning once you create them, you can’t change them.\n",
        "  You can't add, remove, or change elements.\n",
        "- Code :   \n",
        "user_info = (\"Alice\", 21)\n",
        "(#user_info[0] = \"Bob\" This will raise an error)\n",
        "- This protects the data from accidental modification during program execution.\n",
        "2. Predictable and Reliable :\n",
        "- Since the data in a tuple doesn’t change, it’s safe to:\n",
        "   - Use as dictionary keys\n",
        "   - Pass between functions without worry of accidental update\n",
        "   - Store fixed configurations or constants\n",
        "- Code :\n",
        "config = (\"localhost\", 8080)  # Safe and fixed\n",
        "3. Hashable :\n",
        "- Because tuples are immutable, they're hashable (if all their elements are also immutable).\n",
        "This allows them to be used in sets and as dictionary keys, which require stable, unchanging values.\n",
        "- Code :\n",
        "   - user = (\"Alice\", \"Admin\")\n",
        "   - permissions = {user: [\"read\", \"write\"]}\n",
        "\n",
        "Q8. What is a hash table, and how does it relate to dictionaries in Python?\n",
        "- A hash table is a data structure that stores key-value pairs and allows for fast data retrieval using a hash function.\n",
        "-  How Does This Relate to Dictionaries in Python? :\n",
        "    - In Python, dictionaries are built on top of hash tables.\n",
        "    - Code :\n",
        "            - fruit_colors = {\n",
        "                    - \"apple\": \"red\",\n",
        "                    - \"banana\": \"yellow\"\n",
        "            - }\n",
        "            - [ \"apple\" is hashed\n",
        "            - Its hash determines where \"red\" is stored\n",
        "            - Looking up fruit_colors[\"apple\"] is super fast (average time: O(1)) ]\n",
        "\n",
        "\n",
        "Q9.Can lists contain different data types in Python.\n",
        "- Yes — lists in Python can contain different data types!\n",
        "That’s one of the cool things about Python: it’s dynamically typed, so a list can hold a mix of strings, numbers, booleans, even other lists or custom objects.\n",
        "- Example:\n",
        "    - my_list = [42, \"hello\", 3.14, True, [1, 2, 3]]\n",
        "    - print(my_list)\n",
        "        - Output:[42, 'hello', 3.14, True, [1, 2, 3]]\n",
        "\n",
        "\n",
        "Q10. Explain why strings are immutable in Python.\n",
        "-  Why Are Strings Immutable?\n",
        "1. Efficiency & Performance : Python reuses string objects when possible (a process called string interning).\n",
        "This makes string handling faster and more memory-efficient, but it only works if the strings are guaranteed not to change.\n",
        "- Code :\n",
        "    - a = \"hello\"\n",
        "    - b = \"hello\"\n",
        "    - print(a is b)  # True (same memory location)\n",
        "2. Safety : Strings are used as keys in dictionaries and elements in sets, which require hashable (unchanging) values.\n",
        "If strings were mutable, their hash value could change — breaking these data structures.\n",
        "- Code :\n",
        "    - my_dict = {\"hello\": 5}  # works fine because \"hello\" can't change\n",
        "3. Predictable Behavior : You never have to worry that passing a string into a function will accidentally modify the original value.\n",
        "- Code :\n",
        "    - def shout(word):\n",
        "          - word = word.upper()\n",
        "          - return word\n",
        "    - text = \"hi\"\n",
        "    - shout(text)  # \"HI\"\n",
        "    - print(text)  # still \"hi\"\n",
        "4. Thread-Safe : Since strings can’t change, they are naturally safe to use across threads without needing locks or extra protection.\n",
        "\n",
        "Q11.What advantages do dictionaries offer over lists for certain tasks?\n",
        "- Advantages of Dictionaries Over Lists\n",
        "1. Fast Lookups (O(1) Average Time) :\n",
        "  - Dictionaries provide constant-time access to values via keys, making them much faster for lookups compared to lists.With lists, you often have to search through the entire list to find an item, which takes O(n) time (linear search).\n",
        "  - Example :\n",
        "      - (# List Lookup (O(n) time complexity))\n",
        "      - my_list = [10, 20, 30, 40]\n",
        "      - print(30 in my_list)  # This will scan the entire list\n",
        "      - [# Dictionary Lookup (O(1) time complexity)]\n",
        "      - my_dict = {1: \"apple\", 2: \"banana\", 3: \"cherry\"}\n",
        "      - print(2 in my_dict)  # Instant, no scan needed!\n",
        "2. Key-Value Pair Storage (Associative Data) :\n",
        "   - Dictionaries are built to store key-value pairs, making them ideal for tasks where you want to associate values with unique identifiers.In contrast, lists only store a sequence of values, and you often need to manually track what each value represents.\n",
        "   - Example: Storing user info in a list would be cumbersome :\n",
        "       - user_list = [\"Alice\", 25, \"New York\"]\n",
        "       - But with a dictionary, it's clear:\n",
        "            - user_dict = {\"name\": \"Alice\", \"age\": 25, \"city\": \"New York\"}\n",
        "3. Uniqueness of Keys :\n",
        "   - Dictionaries enforce uniqueness of keys automatically, meaning you cannot  have two identical keys.With lists, there is no automatic enforcement of uniqueness; duplicate values can easily sneak in.\n",
        "   - Example:\n",
        "        - [# Dictionary automatically handles uniqueness]\n",
        "        - my_dict = {\"a\": 1, \"b\": 2, \"c\": 3}\n",
        "        - my_dict[\"a\"] = 4  # Replaces \"a\": 1 with \"a\": 4\n",
        "        - [# List can have duplicates]\n",
        "        - my_list = [1, 1, 2, 3]\n",
        "4. Better Organization for Large Datasets :\n",
        "   - When working with large datasets where you need to access values based on specific attributes (keys), dictionaries are much more efficient and easy to manage compared to lists.Lists might require iterating over all elements to find something, whereas dictionaries allow you to jump straight to the value using the key.\n",
        "   - Example: Imagine managing a phonebook where the key is a person's name and the value is their phone number:\n",
        "         - phonebook = {\"Alice\": \"555-1234\", \"Bob\": \"555-5678\"}\n",
        "         - [#Searching by name in a dictionary is instant — no need to search through the entire list.]\n",
        "5. Support for Complex Data Structures\n",
        "   - You can store complex data structures in dictionaries, such as lists, tuples, or other dictionaries, creating hierarchical or nested data.Lists are limited in this sense because they don't provide a natural way to associate one piece of data with another.\n",
        "   - Example:\n",
        "        - [# Nested dictionary (stores multiple phone numbers for a user)]\n",
        "        - contacts = {\n",
        "              - \"Alice\": {\"home\": \"555-1234\", \"work\": \"555-4321\"},\n",
        "              - \"Bob\": {\"home\": \"555-5678\", \"work\": \"555-8765\"}\n",
        "        - }\n",
        "\n",
        "\n",
        "Q12Describe a scenario where using a tuple would be preferable over a list.\n",
        "- Scenario : Representing Coordinates\n",
        "   - Let’s say you're building a program that deals with geometry or mapping — like a game or a GPS system.\n",
        "   - You want to store a point in 2D space, like (x, y).\n",
        "       - point = (5, 10)  # tuple\n",
        "   - (This is a perfect place to use a tuple instead of a list.)\n",
        "   - Why a Tuple Is Better Here:\n",
        "       - Reason\tWhy It Matters\n",
        "         - Fixed size\tCoordinates always have 2 values (x, y) — it won’t change\n",
        "         - Immutable\tPrevents accidental changes to the coordinates\n",
        "         - More semantic clarity\tTuples are great for grouping related but distinct values\n",
        "        - Faster and memory-efficient\tTuples are lighter than lists\n",
        "- Real-World Use Cases Where Tuples Are Preferable:\n",
        "      - Function returns with multiple values:\n",
        "            - def get_size():\n",
        "                  - return (width, height)  # Tuple is clear and fixed-size\n",
        "       - Dictionary keys:\n",
        "            - location_map = {\n",
        "                  - (40.7128, -74.0060): \"New York\",\n",
        "                  - (34.0522, -118.2437): \"Los Angeles\"\n",
        "             - }\n",
        "        - Data integrity : Use a tuple when you want to guarantee the data won’t be modified accidentally.\n",
        "\n",
        "Q13. How do sets handle duplicate values in Python?\n",
        "- How Sets Handle Duplicate Values:\n",
        "    - In Python, a set is an unordered collection of unique elements.That means if you try to add duplicates, the set will silently ignore them.\n",
        "- Example:\n",
        "    - my_set = {1, 2, 2, 3, 4, 4, 4}\n",
        "    - print(my_set)  # ➜ {1, 2, 3, 4}\n",
        "    - [Even though 2 and 4 appear multiple times in the code, the set only keeps one copy of each value.]\n",
        "\n",
        "Q14. How does the “in” keyword work differently for lists and dictionaries?\n",
        "- in with Lists :\n",
        "     - When used with a list, in checks if a value is present anywhere in the list.\n",
        "     - Example:\n",
        "          - my_list = [1, 2, 3, 4]\n",
        "          - print(3 in my_list)     # ➜ True\n",
        "          - print(5 in my_list)     # ➜ False\n",
        "    - Python iterates through the list (linear search), so it's O(n) time complexity.\n",
        "- in with Dictionaries :\n",
        "     - When used with a dictionary, in checks if a key is present — not the value.\n",
        "     - Example :\n",
        "          - my_dict = {\"apple\": 1, \"banana\": 2}\n",
        "          - print(\"apple\" in my_dict)    # ➜ True  (checks keys)\n",
        "          - print(1 in my_dict)          # ➜ False (not checking values!)\n",
        "    - If you want to check for a value in a dictionary :\n",
        "          - print(1 in my_dict.values())       # ➜ True\n",
        "          - print(\"banana\" in my_dict.keys())  # ➜ True\n",
        "     - Dict lookups are O(1) on average because they're backed by a hash table.\n",
        "\n",
        "Q15. Can you modify the elements of a tuple? Explain why or why not.\n",
        "- Tuples Are Immutable : That means once a tuple is created, you can’t change, add, or remove elements.\n",
        "- Example:\n",
        "     - my_tuple = (1, 2, 3)\n",
        "     - my_tuple[0] = 10  #This will raise a TypeError\n",
        "          - Output:\n",
        "                 - TypeError: 'tuple' object does not support item assignment\n",
        "- Why Tuples Are Immutable :\n",
        "    - Data integrity: Good for storing fixed collections of values (like coordinates, RGB colors, database records).\n",
        "    - Hashability: Only immutable types can be hashable (and used as dictionary keys or set elements).\n",
        "    - Safety: Prevents accidental changes in large programs or when passing tuples between functions.\n",
        "- Can a Tuple Contain Mutable Elements?\n",
        "    - Yes! The tuple itself is immutable, but it can hold mutable elements, like lists:\n",
        "    - my_tuple = (1, [2, 3], 4)\n",
        "    - my_tuple[1][0] = 99\n",
        "    - print(my_tuple)  # ➜ (1, [99, 3], 4)\n",
        "           - In this case:\n",
        "                 - The tuple’s structure didn’t change (still 3 elements),But the list inside the tuple was modified — because the list itself is mutable.\n",
        "\n",
        "\n",
        "Q16. What is a nested dictionary, and give an example of its use case?\n",
        "- A nested dictionary in Python is simply a dictionary within another dictionary. It's a way to organize hierarchical or multi-level data — kind of like a tree structure or a JSON object.\n",
        "- What Is a Nested Dictionary?\n",
        "    - A nested dictionary looks like this:\n",
        "         - nested_dict = {\n",
        "               - \"person1\": {\"name\": \"Alice\", \"age\": 25},\n",
        "               - \"person2\": {\"name\": \"Bob\", \"age\": 30}\n",
        "         - }\n",
        "    - Here, each value inside the outer dictionary is another dictionary.\n",
        "- Why Use a Nested Dictionary?\n",
        "    - They’re super useful when you want to model structured data, such as:\n",
        "          - JSON-like objects\n",
        "          - Database records\n",
        "          - Grouped attributes (like settings or profiles)\n",
        "          - Multi-level categorization\n",
        "- Example Use Case: Student Records\n",
        "    - Let’s say you’re building a system to store students’ grades by subject:\n",
        "          - students = {\n",
        "                - \"alice\": {\n",
        "                     - \"math\": 90,\n",
        "                     - \"english\": 85\n",
        "                - },\n",
        "                - \"bob\": {\n",
        "                      - \"math\": 78,\n",
        "                      - \"english\": 88\n",
        "                - }\n",
        "          - }\n",
        "- Accessing data is easy:\n",
        "   - print(students[\"alice\"][\"math\"])  # ➜ 90\n",
        "- Another Use Case: Settings/Configuration\n",
        "   - config = {\n",
        "         - \"theme\": {\n",
        "              - \"background\": \"dark\",\n",
        "              - \"font_size\": 14\n",
        "         - },\n",
        "         - \"user\": {\n",
        "              - \"username\": \"admin\",\n",
        "              - \"email\": \"admin@example.com\"\n",
        "        - }\n",
        "    - }\n",
        "\n",
        "Q17. Describe the time complexity of accessing elements in a dictionary.\n",
        "- Time Complexity of Accessing Elements in a Dictionary\n",
        "    - Average Case:O(1) — Constant time\n",
        "        - Python dictionaries use a hash table under the hood.\n",
        "        - When you access an element by key (e.g., my_dict[\"apple\"]), Python:\n",
        "Computes the hash of the key\n",
        "        - Jumps directly to the memory location associated with that hash\n",
        "        - This allows for super-fast, direct access.\n",
        "    - Worst Case: O(n) — Linear time\n",
        "        - This only happens rarely, due to hash collisions (when multiple keys hash to the same slot).\n",
        "        - Python handles collisions gracefully with open addressing, but if too many occur, performance can degrade.\n",
        "- Example:\n",
        "     - my_dict = {\"a\": 1, \"b\": 2, \"c\": 3}\n",
        "     - print(my_dict[\"b\"])  # O(1) access\n",
        "\n",
        "Q18. In what situations are lists preferred over dictionaries.\n",
        "- When to Prefer Lists Over Dictionaries\n",
        "1. Order Matters : Lists maintain insertion order, and sometimes sequence matters (e.g., step-by-step instructions, task queues, or time-based data).\n",
        "   - tasks = [\"wake up\", \"eat\", \"study\", \"sleep\"]\n",
        "2. No Key-Value Relationship Needed : If you're just storing a bunch of values (like numbers or names), a list is simpler and easier to work with.\n",
        "   - names = [\"Alice\", \"Bob\", \"Charlie\"]\n",
        "3. Duplicates Are Okay or Required :  Lists allow duplicates, while dictionaries require unique keys\n",
        "   - scores = [85, 92, 85, 78]  # Repeated score is fine\n",
        "4. Index-Based Access : If you want to access or manipulate items by their position/index, lists are ideal.\n",
        "   - shopping = [\"milk\", \"eggs\", \"bread\"]\n",
        "   - print(shopping[1])  # ➜ \"eggs\"\n",
        "5. You Want to Sort the Data : Lists are much easier to sort and filter.\n",
        "   - numbers = [5, 2, 9, 1]\n",
        "   - numbers.sort()\n",
        "   - print(numbers)  # ➜ [1, 2, 5, 9]\n",
        "6. Lightweight Data Storage : Lists are more memory-efficient when you don’t need the complexity of keys.\n",
        "\n",
        "Q19. Why are dictionaries considered unordered, and how does that affect data retrieval?\n",
        "- Why Are Dictionaries Considered Unordered? :\n",
        "     - Historically, dictionaries in Python were considered unordered collections — meaning the order in which you added key-value pairs wasn’t guaranteed to be maintained.\n",
        "- This changed in Python 3.7+ : Now, dictionaries do preserve insertion order, but they are still not meant for ordered operations like lists are.So while the order is predictable, it shouldn’t be relied on for things like sorting or indexing unless you’re doing it intentionally.\n",
        "- So What Does That Mean for Data Retrieval? :\n",
        "    - Data retrieval by key is still super fast:\n",
        "         - person = {\"name\": \"Alice\", \"age\": 25, \"city\": \"London\"}\n",
        "         - print(person[\"age\"])  # ➜ 25\n",
        "- This works fine because dictionaries use keys to access values — not position or order.\n",
        "- But you can’t do this:\n",
        "     - print(person[1])  # TypeError: can't access by index\n",
        "     - Unlike lists, you can’t access values by numeric index like dict[0].\n",
        "\n",
        "Q20. Explain the difference between a list and a dictionary in terms of data retrieval.\n",
        "- Main Difference in Retrieval :\n",
        "    - Feature....................List..............................Dictionary\n",
        "         - Access by..........Index (position)..........Key (label/identifier)\n",
        "         - Lookup type......Sequential / indexed...........Key-based / mapped\n",
        "         - Speed..........Slower (O(n) for searching)......Faster (O(1) average lookup time)\n",
        "- Example usage\tOrdered collections like a to-do list\tStructured data like user profiles\n",
        "- Example: List\n",
        "       - fruits = [\"apple\", \"banana\", \"cherry\"]\n",
        "       - print(fruits[1])  # ➜ \"banana\" (accessed by index)\n",
        "       -[Here, you retrieve the item based on its position in the list.]\n",
        "- Example: Dictionary\n",
        "       - person = {\"name\": \"Alice\", \"age\": 25, \"city\": \"Paris\"}\n",
        "       - print(person[\"age\"])  # ➜ 25 (accessed by key)\n",
        "       - [Here, you retrieve the value based on the key — not where it is in the dictionary.]\n",
        "\n"
      ],
      "metadata": {
        "id": "fWVWxbMfLIFU"
      }
    },
    {
      "cell_type": "code",
      "source": [
        "# PRACTICAL QUESTIONS\n",
        "#Q1. Write a code to create a string with your name and print it\n",
        "name = \"POOJA DESHWAL\"\n",
        "print(\"My name is:\", name)\n"
      ],
      "metadata": {
        "colab": {
          "base_uri": "https://localhost:8080/"
        },
        "id": "L14BS4MgjIVh",
        "outputId": "5865b837-c7b5-487e-bf72-538e876894e2"
      },
      "execution_count": 1,
      "outputs": [
        {
          "output_type": "stream",
          "name": "stdout",
          "text": [
            "My name is: POOJA DESHWAL\n"
          ]
        }
      ]
    },
    {
      "cell_type": "code",
      "source": [
        "#Q2. Write a code to find the length of the string \"Hello World\"\n",
        "text = \"Hello World\"\n",
        "length = len(text)\n",
        "print(\"The length of the string is:\", length)\n"
      ],
      "metadata": {
        "colab": {
          "base_uri": "https://localhost:8080/"
        },
        "id": "jJw2WfcVjnBZ",
        "outputId": "f4aff639-ad15-4a41-edcc-5bf25bada8e8"
      },
      "execution_count": 2,
      "outputs": [
        {
          "output_type": "stream",
          "name": "stdout",
          "text": [
            "The length of the string is: 11\n"
          ]
        }
      ]
    },
    {
      "cell_type": "code",
      "source": [
        "#Q3.  Write a code to slice the first 3 characters from the string \"Python Programming\"\n",
        "text = \"Python Programming\"\n",
        "sliced_text = text[:3]\n",
        "print(\"The sliced string is:\", sliced_text)\n"
      ],
      "metadata": {
        "colab": {
          "base_uri": "https://localhost:8080/"
        },
        "id": "PcFFJl9Kj8QG",
        "outputId": "2e8f33c8-e509-4e93-b8e4-6d3d1db1f6e4"
      },
      "execution_count": 3,
      "outputs": [
        {
          "output_type": "stream",
          "name": "stdout",
          "text": [
            "The sliced string is: Pyt\n"
          ]
        }
      ]
    },
    {
      "cell_type": "code",
      "source": [
        "#Q4.  Write a code to convert the string \"hello\" to uppercase\n",
        "text = \"hello\"\n",
        "uppercase_text = text.upper()\n",
        "print(\"The uppercase string is:\", uppercase_text)\n"
      ],
      "metadata": {
        "colab": {
          "base_uri": "https://localhost:8080/"
        },
        "id": "KuBjfFGWkLvP",
        "outputId": "9ce92c02-cd07-43dd-d034-36eb92c3b96c"
      },
      "execution_count": 4,
      "outputs": [
        {
          "output_type": "stream",
          "name": "stdout",
          "text": [
            "The uppercase string is: HELLO\n"
          ]
        }
      ]
    },
    {
      "cell_type": "code",
      "source": [
        "#Q5.Write a code to replace the word \"apple\" with \"orange\" in the string \"I like apple\"\n",
        "text = \"I like apple\"\n",
        "updated_text = text.replace(\"apple\", \"orange\")\n",
        "print(\"The updated string is:\", updated_text)\n"
      ],
      "metadata": {
        "colab": {
          "base_uri": "https://localhost:8080/"
        },
        "id": "kPFqbEYBkWuO",
        "outputId": "01521afa-2266-4fbe-8446-8e8ccb36b9cf"
      },
      "execution_count": 5,
      "outputs": [
        {
          "output_type": "stream",
          "name": "stdout",
          "text": [
            "The updated string is: I like orange\n"
          ]
        }
      ]
    },
    {
      "cell_type": "code",
      "source": [
        "#Q6.  Write a code to create a list with numbers 1 to 5 and print it\n",
        "numbers = [1, 2, 3, 4, 5]\n",
        "print(\"The list is:\", numbers)\n"
      ],
      "metadata": {
        "colab": {
          "base_uri": "https://localhost:8080/"
        },
        "id": "z1cQKjvpkfSQ",
        "outputId": "8e05d43f-1ed5-4e4b-be78-c58ce2376824"
      },
      "execution_count": 6,
      "outputs": [
        {
          "output_type": "stream",
          "name": "stdout",
          "text": [
            "The list is: [1, 2, 3, 4, 5]\n"
          ]
        }
      ]
    },
    {
      "cell_type": "code",
      "source": [
        "#Q7.  Write a code to append the number 10 to the list [1, 2, 3, 4]\n",
        "numbers = [1, 2, 3, 4]\n",
        "numbers.append(10)\n",
        "print(\"The updated list is:\", numbers)\n"
      ],
      "metadata": {
        "colab": {
          "base_uri": "https://localhost:8080/"
        },
        "id": "1cbaQD67kped",
        "outputId": "f4a481f1-8288-4770-e2ac-8ca39cd1d7e3"
      },
      "execution_count": 7,
      "outputs": [
        {
          "output_type": "stream",
          "name": "stdout",
          "text": [
            "The updated list is: [1, 2, 3, 4, 10]\n"
          ]
        }
      ]
    },
    {
      "cell_type": "code",
      "source": [
        "#Q8. Write a code to remove the number 3 from the list [1, 2, 3, 4, 5]\n",
        "numbers = [1, 2, 3, 4, 5]\n",
        "numbers.remove(3)\n",
        "print(\"The updated list is:\", numbers)\n"
      ],
      "metadata": {
        "colab": {
          "base_uri": "https://localhost:8080/"
        },
        "id": "uMx4Jc11k1LB",
        "outputId": "cd6e6bb2-5179-431a-e3be-011f9950a2f6"
      },
      "execution_count": 8,
      "outputs": [
        {
          "output_type": "stream",
          "name": "stdout",
          "text": [
            "The updated list is: [1, 2, 4, 5]\n"
          ]
        }
      ]
    },
    {
      "cell_type": "code",
      "source": [
        "#Q9.  Write a code to access the second element in the list ['a', 'b', 'c', 'd']\n",
        "letters = ['a', 'b', 'c', 'd']\n",
        "second_element = letters[1]\n",
        "print(\"The second element is:\", second_element)\n"
      ],
      "metadata": {
        "colab": {
          "base_uri": "https://localhost:8080/"
        },
        "id": "veRVbltYk9Uh",
        "outputId": "2eb52d5c-f347-4e1e-aed9-2d218919b59d"
      },
      "execution_count": 9,
      "outputs": [
        {
          "output_type": "stream",
          "name": "stdout",
          "text": [
            "The second element is: b\n"
          ]
        }
      ]
    },
    {
      "cell_type": "code",
      "source": [
        "#Q10. Write a code to reverse the list [10, 20, 30, 40, 50].\n",
        "numbers = [10, 20, 30, 40, 50]\n",
        "reversed_numbers = numbers[::-1]\n",
        "print(\"The reversed list is:\", reversed_numbers)\n"
      ],
      "metadata": {
        "colab": {
          "base_uri": "https://localhost:8080/"
        },
        "id": "CjxKk49dlFqQ",
        "outputId": "0bd1fc79-1963-4919-b115-55ddf16ae518"
      },
      "execution_count": 10,
      "outputs": [
        {
          "output_type": "stream",
          "name": "stdout",
          "text": [
            "The reversed list is: [50, 40, 30, 20, 10]\n"
          ]
        }
      ]
    },
    {
      "cell_type": "code",
      "source": [
        "#Q11.  Write a code to create a tuple with the elements 100, 200, 300 and print it.\n",
        "my_tuple = (100, 200, 300)\n",
        "print(\"The tuple is:\", my_tuple)\n"
      ],
      "metadata": {
        "colab": {
          "base_uri": "https://localhost:8080/"
        },
        "id": "BOGv2e2LlOvK",
        "outputId": "26f6e58b-2ac1-4ea2-ac34-04bf93f75267"
      },
      "execution_count": 11,
      "outputs": [
        {
          "output_type": "stream",
          "name": "stdout",
          "text": [
            "The tuple is: (100, 200, 300)\n"
          ]
        }
      ]
    },
    {
      "cell_type": "code",
      "source": [
        "#Q12.  Write a code to access the second-to-last element of the tuple ('red', 'green', 'blue', 'yellow').\n",
        "my_tuple = ('red', 'green', 'blue', 'yellow')\n",
        "second_to_last = my_tuple[-2]\n",
        "print(\"The second-to-last element is:\", second_to_last)\n"
      ],
      "metadata": {
        "colab": {
          "base_uri": "https://localhost:8080/"
        },
        "id": "ntgI-47ilXpN",
        "outputId": "b8a7150f-7604-4df4-d997-fc8862cf5be5"
      },
      "execution_count": 12,
      "outputs": [
        {
          "output_type": "stream",
          "name": "stdout",
          "text": [
            "The second-to-last element is: blue\n"
          ]
        }
      ]
    },
    {
      "cell_type": "code",
      "source": [
        "#Q13. Write a code to find the minimum number in the tuple (10, 20, 5, 15).\n",
        "my_tuple = (10, 20, 5, 15)\n",
        "min_number = min(my_tuple)\n",
        "print(\"The minimum number is:\", min_number)\n"
      ],
      "metadata": {
        "colab": {
          "base_uri": "https://localhost:8080/"
        },
        "id": "XYgphGr6lfK4",
        "outputId": "ab16b000-cd96-4f95-e259-cc5317812a2f"
      },
      "execution_count": 13,
      "outputs": [
        {
          "output_type": "stream",
          "name": "stdout",
          "text": [
            "The minimum number is: 5\n"
          ]
        }
      ]
    },
    {
      "cell_type": "code",
      "source": [
        "#Q14.  Write a code to find the index of the element \"cat\" in the tuple ('dog', 'cat', 'rabbit')\n",
        "my_tuple = ('dog', 'cat', 'rabbit')\n",
        "index_of_cat = my_tuple.index('cat')\n",
        "print(\"The index of 'cat' is:\", index_of_cat)\n"
      ],
      "metadata": {
        "colab": {
          "base_uri": "https://localhost:8080/"
        },
        "id": "g_6yBvyelmya",
        "outputId": "98199ac8-de6f-4115-cddd-12bfc1ed8252"
      },
      "execution_count": 14,
      "outputs": [
        {
          "output_type": "stream",
          "name": "stdout",
          "text": [
            "The index of 'cat' is: 1\n"
          ]
        }
      ]
    },
    {
      "cell_type": "code",
      "source": [
        "#Q15. Write a code to create a tuple containing three different fruits and check if \"kiwi\" is in it.\n",
        "fruits = ('apple', 'banana', 'orange')\n",
        "is_kiwi_present = 'kiwi' in fruits\n",
        "print(\"Is 'kiwi' in the tuple?\", is_kiwi_present)\n"
      ],
      "metadata": {
        "colab": {
          "base_uri": "https://localhost:8080/"
        },
        "id": "_Wmh90Ublv6Y",
        "outputId": "dc06b647-130a-4a25-9bc9-26f5b0cf608c"
      },
      "execution_count": 15,
      "outputs": [
        {
          "output_type": "stream",
          "name": "stdout",
          "text": [
            "Is 'kiwi' in the tuple? False\n"
          ]
        }
      ]
    },
    {
      "cell_type": "code",
      "source": [
        "#Q16.  Write a code to create a set with the elements 'a', 'b', 'c' and print it\n",
        "my_set = {'a', 'b', 'c'}\n",
        "print(\"The set is:\", my_set)\n"
      ],
      "metadata": {
        "colab": {
          "base_uri": "https://localhost:8080/"
        },
        "id": "zqAW90Qol6B4",
        "outputId": "449a65c5-8b83-4d36-b153-aee30960e664"
      },
      "execution_count": 16,
      "outputs": [
        {
          "output_type": "stream",
          "name": "stdout",
          "text": [
            "The set is: {'c', 'a', 'b'}\n"
          ]
        }
      ]
    },
    {
      "cell_type": "code",
      "source": [
        "#Q17.  Write a code to clear all elements from the set {1, 2, 3, 4, 5}.\n",
        "my_set = {1, 2, 3, 4, 5}\n",
        "my_set.clear()\n",
        "print(\"The set after clearing all elements:\", my_set)\n"
      ],
      "metadata": {
        "colab": {
          "base_uri": "https://localhost:8080/"
        },
        "id": "CYVL6ML9mGjV",
        "outputId": "cf2eb2d4-9e54-4fe4-ebb2-817a0d7fe17d"
      },
      "execution_count": 17,
      "outputs": [
        {
          "output_type": "stream",
          "name": "stdout",
          "text": [
            "The set after clearing all elements: set()\n"
          ]
        }
      ]
    },
    {
      "cell_type": "code",
      "source": [
        "#Q18. . Write a code to remove the element 4 from the set {1, 2, 3, 4}\n",
        "my_set = {1, 2, 3, 4}\n",
        "my_set.remove(4)\n",
        "print(\"The set after removing 4:\", my_set)\n"
      ],
      "metadata": {
        "colab": {
          "base_uri": "https://localhost:8080/"
        },
        "id": "tWMKx0s6mQJT",
        "outputId": "dffff0e1-36d4-48d9-b311-b24d29ef89c8"
      },
      "execution_count": 18,
      "outputs": [
        {
          "output_type": "stream",
          "name": "stdout",
          "text": [
            "The set after removing 4: {1, 2, 3}\n"
          ]
        }
      ]
    },
    {
      "cell_type": "code",
      "source": [
        "#Q19. Write a code to find the union of two sets {1, 2, 3} and {3, 4, 5}.\n",
        "set1 = {1, 2, 3}\n",
        "set2 = {3, 4, 5}\n",
        "union_set = set1 | set2  # Using the '|' operator to find the union\n",
        "# Alternatively, you can use set1.union(set2)\n",
        "print(\"The union of the sets is:\", union_set)\n"
      ],
      "metadata": {
        "colab": {
          "base_uri": "https://localhost:8080/"
        },
        "id": "xP74XA8imXgu",
        "outputId": "037a7296-6aed-4957-fe99-68e4257bf626"
      },
      "execution_count": 19,
      "outputs": [
        {
          "output_type": "stream",
          "name": "stdout",
          "text": [
            "The union of the sets is: {1, 2, 3, 4, 5}\n"
          ]
        }
      ]
    },
    {
      "cell_type": "code",
      "source": [
        "#Q20. Write a code to find the intersection of two sets {1, 2, 3} and {2, 3, 4}\n",
        "set1 = {1, 2, 3}\n",
        "set2 = {2, 3, 4}\n",
        "intersection_set = set1 & set2  # Using the '&' operator to find the intersection\n",
        "# Alternatively, you can use set1.intersection(set2)\n",
        "print(\"The intersection of the sets is:\", intersection_set)\n"
      ],
      "metadata": {
        "colab": {
          "base_uri": "https://localhost:8080/"
        },
        "id": "35kXASsJmiuM",
        "outputId": "58ba4461-5f00-42b2-dc74-18ac7c4fc765"
      },
      "execution_count": 20,
      "outputs": [
        {
          "output_type": "stream",
          "name": "stdout",
          "text": [
            "The intersection of the sets is: {2, 3}\n"
          ]
        }
      ]
    },
    {
      "cell_type": "code",
      "source": [
        "#Q21.  Write a code to create a dictionary with the keys \"name\", \"age\", and \"city\", and print it.\n",
        "my_dict = {\n",
        "    \"name\": \"POOJA\",\n",
        "    \"age\": 20,\n",
        "    \"city\": \"REWARI\"\n",
        "}\n",
        "\n",
        "print(\"The dictionary is:\", my_dict)\n"
      ],
      "metadata": {
        "colab": {
          "base_uri": "https://localhost:8080/"
        },
        "id": "sM_TtVkbmsAR",
        "outputId": "2bca2210-b697-4b86-c3a8-78c69070d70f"
      },
      "execution_count": 21,
      "outputs": [
        {
          "output_type": "stream",
          "name": "stdout",
          "text": [
            "The dictionary is: {'name': 'POOJA', 'age': 20, 'city': 'REWARI'}\n"
          ]
        }
      ]
    },
    {
      "cell_type": "code",
      "source": [
        "#Q22.  Write a code to add a new key-value pair \"country\": \"USA\" to the dictionary {'name': 'John', 'age': 25}.\n",
        "person = {'name': 'John', 'age': 25}\n",
        "person['country'] = 'USA'\n",
        "print(\"Updated dictionary:\", person)\n"
      ],
      "metadata": {
        "colab": {
          "base_uri": "https://localhost:8080/"
        },
        "id": "B03pWC_Xm4dS",
        "outputId": "d3584d18-f83f-4d77-b7e3-637f4d950250"
      },
      "execution_count": 23,
      "outputs": [
        {
          "output_type": "stream",
          "name": "stdout",
          "text": [
            "Updated dictionary: {'name': 'John', 'age': 25, 'country': 'USA'}\n"
          ]
        }
      ]
    },
    {
      "cell_type": "code",
      "source": [
        "#Q23. Write a code to access the value associated with the key \"name\" in the dictionary {'name': 'Alice', 'age': 30}.\n",
        "person = {'name': 'Alice', 'age': 30}\n",
        "name_value = person['name']\n",
        "print(\"The value associated with 'name' is:\", name_value)\n"
      ],
      "metadata": {
        "colab": {
          "base_uri": "https://localhost:8080/"
        },
        "id": "pzvHpFvdnE4V",
        "outputId": "8e033344-70e2-4d06-f8e3-4cd566d0aad4"
      },
      "execution_count": 24,
      "outputs": [
        {
          "output_type": "stream",
          "name": "stdout",
          "text": [
            "The value associated with 'name' is: Alice\n"
          ]
        }
      ]
    },
    {
      "cell_type": "code",
      "source": [
        "#Q24. Write a code to remove the key \"age\" from the dictionary {'name': 'Bob', 'age': 22, 'city': 'New York'}.\n",
        "person = {'name': 'Bob', 'age': 22, 'city': 'New York'}\n",
        "person.pop('age')\n",
        "print(\"Updated dictionary:\", person)\n"
      ],
      "metadata": {
        "colab": {
          "base_uri": "https://localhost:8080/"
        },
        "id": "Iq9xhDyenUiQ",
        "outputId": "d2974c08-2043-493e-d136-85cf1d6643e9"
      },
      "execution_count": 25,
      "outputs": [
        {
          "output_type": "stream",
          "name": "stdout",
          "text": [
            "Updated dictionary: {'name': 'Bob', 'city': 'New York'}\n"
          ]
        }
      ]
    },
    {
      "cell_type": "code",
      "source": [
        "#Q25.  Write a code to check if the key \"city\" exists in the dictionary {'name': 'Alice', 'city': 'Paris'}.\n",
        "person = {'name': 'Alice', 'city': 'Paris'}\n",
        "\n",
        "if 'city' in person:\n",
        "    print(\"The key 'city' exists in the dictionary.\")\n",
        "else:\n",
        "    print(\"The key 'city' does not exist in the dictionary.\")\n"
      ],
      "metadata": {
        "colab": {
          "base_uri": "https://localhost:8080/"
        },
        "id": "EXOzIoXenc4s",
        "outputId": "a8ff81ba-3b13-4bac-f0ed-cd1d1f2ecb3b"
      },
      "execution_count": 26,
      "outputs": [
        {
          "output_type": "stream",
          "name": "stdout",
          "text": [
            "The key 'city' exists in the dictionary.\n"
          ]
        }
      ]
    },
    {
      "cell_type": "code",
      "source": [
        "#Q26.  Write a code to create a list, a tuple, and a dictionary, and print them all.\n",
        "# Creating a list\n",
        "my_list = [1, 2, 3, 4, 5]\n",
        "# Creating a tuple\n",
        "my_tuple = ('apple', 'banana', 'cherry')\n",
        "# Creating a dictionary\n",
        "my_dict = {'name': 'Alice', 'age': 30, 'city': 'London'}\n",
        "# Printing all of them\n",
        "print(\"List:\", my_list)\n",
        "print(\"Tuple:\", my_tuple)\n",
        "print(\"Dictionary:\", my_dict)\n"
      ],
      "metadata": {
        "colab": {
          "base_uri": "https://localhost:8080/"
        },
        "id": "CCT_B_IAnmHo",
        "outputId": "1679bab1-77e4-4bdb-9510-061d1c9a4048"
      },
      "execution_count": 27,
      "outputs": [
        {
          "output_type": "stream",
          "name": "stdout",
          "text": [
            "List: [1, 2, 3, 4, 5]\n",
            "Tuple: ('apple', 'banana', 'cherry')\n",
            "Dictionary: {'name': 'Alice', 'age': 30, 'city': 'London'}\n"
          ]
        }
      ]
    },
    {
      "cell_type": "code",
      "source": [
        "#Q27. Write a code to create a list of 5 random numbers between 1 and 100, sort it in ascending order, and print the result.(replaced)\n",
        "import random\n",
        "\n",
        "# Generate a list of 5 random numbers between 1 and 100\n",
        "random_numbers = random.sample(range(1, 101), 5)\n",
        "\n",
        "# Sort the list in ascending order\n",
        "random_numbers.sort()\n",
        "\n",
        "# Print the sorted list\n",
        "print(\"Sorted random numbers:\", random_numbers)\n"
      ],
      "metadata": {
        "colab": {
          "base_uri": "https://localhost:8080/"
        },
        "id": "at5ze7xqnxdC",
        "outputId": "ab009cff-57cc-4144-fc98-d50db09dd176"
      },
      "execution_count": 28,
      "outputs": [
        {
          "output_type": "stream",
          "name": "stdout",
          "text": [
            "Sorted random numbers: [6, 7, 63, 70, 88]\n"
          ]
        }
      ]
    },
    {
      "cell_type": "code",
      "source": [
        "#Q28. Write a code to create a list with strings and print the element at the third index\n",
        "# Create a list with strings\n",
        "words = [\"apple\", \"banana\", \"cherry\", \"date\", \"elderberry\"]\n",
        "\n",
        "# Print the element at the third index (which is the 4th element)\n",
        "print(\"The element at index 3 is:\", words[3])\n"
      ],
      "metadata": {
        "colab": {
          "base_uri": "https://localhost:8080/"
        },
        "id": "-dBW9N7epOz7",
        "outputId": "c6a421df-c01c-44e5-be49-fea8868b40da"
      },
      "execution_count": 29,
      "outputs": [
        {
          "output_type": "stream",
          "name": "stdout",
          "text": [
            "The element at index 3 is: date\n"
          ]
        }
      ]
    },
    {
      "cell_type": "code",
      "source": [
        "#Q29.  Write a code to combine two dictionaries into one and print the result.\n",
        "# Define two dictionaries\n",
        "dict1 = {'name': 'Alice', 'age': 25}\n",
        "dict2 = {'city': 'Paris', 'country': 'France'}\n",
        "\n",
        "# Combine the dictionaries\n",
        "combined_dict = {**dict1, **dict2}\n",
        "\n",
        "# Print the result\n",
        "print(\"Combined dictionary:\", combined_dict)\n"
      ],
      "metadata": {
        "colab": {
          "base_uri": "https://localhost:8080/"
        },
        "id": "n0Iu5FiopYuu",
        "outputId": "1d927b01-2dbb-4a2c-fc63-a6394e1c902d"
      },
      "execution_count": 30,
      "outputs": [
        {
          "output_type": "stream",
          "name": "stdout",
          "text": [
            "Combined dictionary: {'name': 'Alice', 'age': 25, 'city': 'Paris', 'country': 'France'}\n"
          ]
        }
      ]
    },
    {
      "cell_type": "code",
      "source": [
        "#Q30. Write a code to convert a list of strings into a set\n",
        "# Create a list of strings\n",
        "string_list = ['apple', 'banana', 'cherry', 'apple']\n",
        "\n",
        "# Convert the list into a set\n",
        "string_set = set(string_list)\n",
        "\n",
        "# Print the set\n",
        "print(\"Set of strings:\", string_set)\n"
      ],
      "metadata": {
        "colab": {
          "base_uri": "https://localhost:8080/"
        },
        "id": "jrfZeV4Bphzk",
        "outputId": "2475dbbf-e788-4dc0-ae58-89bab51fcf3d"
      },
      "execution_count": 31,
      "outputs": [
        {
          "output_type": "stream",
          "name": "stdout",
          "text": [
            "Set of strings: {'banana', 'apple', 'cherry'}\n"
          ]
        }
      ]
    },
    {
      "cell_type": "code",
      "source": [],
      "metadata": {
        "id": "TPd80RmOpuE3"
      },
      "execution_count": null,
      "outputs": []
    }
  ]
}